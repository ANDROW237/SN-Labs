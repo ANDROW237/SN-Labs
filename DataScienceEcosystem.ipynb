{
 "cells": [
  {
   "cell_type": "markdown",
   "id": "8635bf19-2355-4701-bb1a-3f5f0d92f8ad",
   "metadata": {
    "tags": []
   },
   "source": [
    "# H1 Data Science Tools and Ecosystem"
   ]
  },
  {
   "cell_type": "markdown",
   "id": "a7c7caa2-1a08-41b6-9d77-2739e8e73468",
   "metadata": {},
   "source": [
    "**In this notebook, Data Science Tools and Ecosystem are summarized.**"
   ]
  },
  {
   "cell_type": "markdown",
   "id": "4e258019-35c7-4a72-a877-e1d62f77e705",
   "metadata": {},
   "source": [
    "**Objectives:**\n",
    "- Languages for data science\n",
    "- Libraies used for Data Science\n",
    "- Data science Tools"
   ]
  },
  {
   "cell_type": "markdown",
   "id": "0a1125d3-32de-4a55-97f8-4a45869b0a8e",
   "metadata": {},
   "source": [
    "Some of the popular languages that Data Scientists use are:\n",
    "\n",
    "\n",
    "    1. Python\n",
    "    2. R\n",
    "    3. Scala\n",
    "    4. Julia\n",
    "    \n",
    "    "
   ]
  },
  {
   "cell_type": "markdown",
   "id": "f2569b54-1754-44a0-9019-169e79fbeca0",
   "metadata": {},
   "source": [
    "Some of the commonly used libraries used by Data Scientists include:\n",
    "\n",
    "1. Tensorflow\n",
    "2.  Pytorch\n",
    "3. Heras\n"
   ]
  },
  {
   "cell_type": "markdown",
   "id": "1ff9f940-02e8-4432-b0ec-2dbbbc946603",
   "metadata": {},
   "source": [
    "|Data Science Tools|\n",
    "|------------------|\n",
    "|Jupyter Notebook|\n",
    "|R Studio|\n",
    "|Ananconda|"
   ]
  },
  {
   "cell_type": "markdown",
   "id": "0e9c289f-73f7-4f67-83ae-5a5fe88d1024",
   "metadata": {},
   "source": [
    "# H3 Below are a few examples of evaluating arithmetic expressions in Python"
   ]
  },
  {
   "cell_type": "code",
   "execution_count": 1,
   "id": "7d1e023f-79e3-422c-abad-790e85bc594b",
   "metadata": {
    "tags": []
   },
   "outputs": [
    {
     "data": {
      "text/plain": [
       "17"
      ]
     },
     "execution_count": 1,
     "metadata": {},
     "output_type": "execute_result"
    }
   ],
   "source": [
    "# This a simple arithmetic expression to mutiply then add integers\n",
    "r =(3*4)+5\n",
    "r"
   ]
  },
  {
   "cell_type": "code",
   "execution_count": 2,
   "id": "6ac8b060-2690-4efc-98bd-567e19916d55",
   "metadata": {
    "tags": []
   },
   "outputs": [
    {
     "data": {
      "text/plain": [
       "3.3333333333333335"
      ]
     },
     "execution_count": 2,
     "metadata": {},
     "output_type": "execute_result"
    }
   ],
   "source": [
    "# This will convert 200 minutes to hours by diving by 60\n",
    "hours = 200/60\n",
    "hours"
   ]
  },
  {
   "cell_type": "markdown",
   "id": "3aa725a3-2c9c-4757-939f-5d0bbf45f7c9",
   "metadata": {},
   "source": [
    "# H2 Author\n",
    "\n",
    "ANDROW LAUREEN POUNGOUE"
   ]
  },
  {
   "cell_type": "code",
   "execution_count": null,
   "id": "99280911-139c-45ce-b99f-6ae45775232a",
   "metadata": {},
   "outputs": [],
   "source": []
  }
 ],
 "metadata": {
  "kernelspec": {
   "display_name": "Python",
   "language": "python",
   "name": "conda-env-python-py"
  },
  "language_info": {
   "codemirror_mode": {
    "name": "ipython",
    "version": 3
   },
   "file_extension": ".py",
   "mimetype": "text/x-python",
   "name": "python",
   "nbconvert_exporter": "python",
   "pygments_lexer": "ipython3",
   "version": "3.7.12"
  }
 },
 "nbformat": 4,
 "nbformat_minor": 5
}
